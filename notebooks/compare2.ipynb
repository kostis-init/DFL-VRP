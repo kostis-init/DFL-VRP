{
 "cells": [
  {
   "cell_type": "code",
   "execution_count": 1,
   "metadata": {
    "collapsed": true,
    "ExecuteTime": {
     "end_time": "2023-05-15T10:47:56.143171Z",
     "start_time": "2023-05-15T10:47:54.237513Z"
    }
   },
   "outputs": [],
   "source": [
    "# load the autoreload extension\n",
    "%load_ext autoreload\n",
    "# set the level of reloading\n",
    "%autoreload 2\n",
    "\n",
    "from util import *\n",
    "import torch\n",
    "from heuristic.heuristic_solver import HeuristicSolver\n",
    "from spo_model import *\n",
    "from tqdm import tqdm\n",
    "\n",
    "from two_stage_model import TwoStageModel\n"
   ]
  },
  {
   "cell_type": "markdown",
   "source": [
    "# 0. Load data"
   ],
   "metadata": {
    "collapsed": false
   }
  },
  {
   "cell_type": "code",
   "execution_count": 2,
   "outputs": [
    {
     "name": "stderr",
     "output_type": "stream",
     "text": [
      "100%|██████████| 10000/10000 [00:56<00:00, 176.12it/s]\n"
     ]
    }
   ],
   "source": [
    "data = [parse_datafile(f'../data/cvrp_10000_10_4_4_0.1/instance_{i}') for i in tqdm(range(10_000))]"
   ],
   "metadata": {
    "collapsed": false,
    "ExecuteTime": {
     "end_time": "2023-05-15T10:48:52.972943Z",
     "start_time": "2023-05-15T10:47:56.145276Z"
    }
   }
  },
  {
   "cell_type": "code",
   "execution_count": 3,
   "outputs": [
    {
     "name": "stdout",
     "output_type": "stream",
     "text": [
      "Number of training instances: 7500\n",
      "Number of validation instances: 500\n",
      "Number of test instances: 2000\n"
     ]
    }
   ],
   "source": [
    "TRAIN_PERCENTAGE = 0.75\n",
    "VALIDATION_PERCENTAGE = 0.05\n",
    "TEST_PERCENTAGE = 0.2\n",
    "\n",
    "num_train = int(len(data) * TRAIN_PERCENTAGE)\n",
    "num_val = int(len(data) * VALIDATION_PERCENTAGE)\n",
    "num_test = int(len(data) * TEST_PERCENTAGE)\n",
    "\n",
    "vrps_train = data[:num_train]\n",
    "vrps_val = data[num_train:num_train + num_val]\n",
    "vrps_test = data[num_train + num_val:]\n",
    "print(f'Number of training instances: {len(vrps_train)}')\n",
    "print(f'Number of validation instances: {len(vrps_val)}')\n",
    "print(f'Number of test instances: {len(vrps_test)}')"
   ],
   "metadata": {
    "collapsed": false,
    "ExecuteTime": {
     "end_time": "2023-05-15T10:48:53.116383Z",
     "start_time": "2023-05-15T10:48:52.974096Z"
    }
   }
  },
  {
   "cell_type": "markdown",
   "source": [
    "# SPO-3"
   ],
   "metadata": {
    "collapsed": false
   }
  },
  {
   "cell_type": "code",
   "execution_count": 4,
   "outputs": [
    {
     "name": "stderr",
     "output_type": "stream",
     "text": [
      "0it [00:00, ?it/s]"
     ]
    },
    {
     "name": "stdout",
     "output_type": "stream",
     "text": [
      "Set parameter Username\n",
      "Academic license - for non-commercial use only - expires 2024-02-16\n"
     ]
    },
    {
     "name": "stderr",
     "output_type": "stream",
     "text": [
      "68it [00:00, 115.19it/s]"
     ]
    }
   ],
   "source": [
    "from spo_model3 import SPOModel3\n",
    "\n",
    "spo_model = SPOModel3(vrps_train, vrps_val, vrps_test, solver_class=GurobiSolver, lr=1e-4)\n",
    "spo_model.train(epochs=50, verbose=False, test_every=5)"
   ],
   "metadata": {
    "collapsed": false,
    "ExecuteTime": {
     "end_time": "2023-05-15T10:50:02.002848Z",
     "start_time": "2023-05-15T10:48:53.117539Z"
    }
   }
  },
  {
   "cell_type": "code",
   "execution_count": null,
   "outputs": [],
   "source": [],
   "metadata": {
    "collapsed": false
   }
  },
  {
   "cell_type": "code",
   "execution_count": null,
   "outputs": [],
   "source": [],
   "metadata": {
    "collapsed": false
   }
  }
 ],
 "metadata": {
  "kernelspec": {
   "display_name": "Python 3",
   "language": "python",
   "name": "python3"
  },
  "language_info": {
   "codemirror_mode": {
    "name": "ipython",
    "version": 2
   },
   "file_extension": ".py",
   "mimetype": "text/x-python",
   "name": "python",
   "nbconvert_exporter": "python",
   "pygments_lexer": "ipython2",
   "version": "2.7.6"
  }
 },
 "nbformat": 4,
 "nbformat_minor": 0
}
